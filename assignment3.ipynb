{
 "cells": [
  {
   "cell_type": "code",
   "execution_count": 5,
   "id": "52d758ee",
   "metadata": {},
   "outputs": [
    {
     "name": "stdout",
     "output_type": "stream",
     "text": [
      "Factorial of 4 is 24\n"
     ]
    }
   ],
   "source": [
    "def fact(n):\n",
    "    if n<2:\n",
    "        return 1\n",
    "    else:    \n",
    "     return n*fact(n-1)\n",
    "n=int(input(\"Enter a number: \"))    \n",
    "print(\"Factorial of\", n, \"is\", fact(n))"
   ]
  },
  {
   "cell_type": "code",
   "execution_count": 6,
   "id": "41e2e762",
   "metadata": {},
   "outputs": [
    {
     "name": "stdout",
     "output_type": "stream",
     "text": [
      "Square root of 8 is 2.8284271247461903\n",
      "logarithm of 8 is 2.0794415416798357\n",
      "sine of 8 is 0.9893582466233818\n"
     ]
    }
   ],
   "source": [
    " from math import *\n",
    "a=int(input(\"Enter number:\"))\n",
    "print(\"Square root of\", a, \"is\", sqrt(a))\n",
    "print(\"logarithm of\", a, \"is\", log(a))\n",
    "print(\"sine of\", a, \"is\", sin(a)) \n"
   ]
  }
 ],
 "metadata": {
  "kernelspec": {
   "display_name": "Python 3",
   "language": "python",
   "name": "python3"
  },
  "language_info": {
   "codemirror_mode": {
    "name": "ipython",
    "version": 3
   },
   "file_extension": ".py",
   "mimetype": "text/x-python",
   "name": "python",
   "nbconvert_exporter": "python",
   "pygments_lexer": "ipython3",
   "version": "3.11.9"
  }
 },
 "nbformat": 4,
 "nbformat_minor": 5
}
