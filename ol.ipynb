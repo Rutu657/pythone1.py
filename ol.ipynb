{
 "cells": [
  {
   "cell_type": "code",
   "execution_count": 1,
   "id": "9886191e",
   "metadata": {},
   "outputs": [
    {
     "name": "stdout",
     "output_type": "stream",
     "text": [
      "first number is 4  \n",
      "second number is 3\n"
     ]
    }
   ],
   "source": [
    "a=int(input(\"Enter first number: \"))\n",
    "b=int(input(\"Enter second number: \"))\n",
    "print(\"first number is\", a,\" \\nsecond number is\", b)"
   ]
  },
  {
   "cell_type": "code",
   "execution_count": 2,
   "id": "71ec431e",
   "metadata": {},
   "outputs": [
    {
     "name": "stdout",
     "output_type": "stream",
     "text": [
      "sum of two numbers is 14\n",
      "difference of two numbers is 0\n",
      "product of two numbers is 49\n",
      "division of two numbers is 1.0\n"
     ]
    }
   ],
   "source": [
    "a=int(input(\"Enter first number: \"))\n",
    "b=int(input(\"Enter second number: \"))\n",
    "print(\"sum of two numbers is\", a+b)\n",
    "print(\"difference of two numbers is\", a-b)\n",
    "print(\"product of two numbers is\", a*b)\n",
    "print(\"division of two numbers is\", a/b)\n"
   ]
  },
  {
   "cell_type": "code",
   "execution_count": 1,
   "id": "3e196613",
   "metadata": {},
   "outputs": [
    {
     "name": "stdout",
     "output_type": "stream",
     "text": [
      "hello jadav rutvik welcome to the world of python programming\n"
     ]
    }
   ],
   "source": [
    "name=input(\"Enter your first name: \")\n",
    "lastname=input(\"Enter your last name: \")\n",
    "print(\"hello\", name, lastname,\"welcome to the world of python programming\")\n"
   ]
  }
 ],
 "metadata": {
  "kernelspec": {
   "display_name": "Python 3",
   "language": "python",
   "name": "python3"
  },
  "language_info": {
   "codemirror_mode": {
    "name": "ipython",
    "version": 3
   },
   "file_extension": ".py",
   "mimetype": "text/x-python",
   "name": "python",
   "nbconvert_exporter": "python",
   "pygments_lexer": "ipython3",
   "version": "3.11.9"
  }
 },
 "nbformat": 4,
 "nbformat_minor": 5
}
